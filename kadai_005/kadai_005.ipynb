{
  "nbformat": 4,
  "nbformat_minor": 0,
  "metadata": {
    "colab": {
      "provenance": []
    },
    "kernelspec": {
      "name": "python3",
      "display_name": "Python 3"
    },
    "language_info": {
      "name": "python"
    }
  },
  "cells": [
    {
      "cell_type": "code",
      "execution_count": 7,
      "metadata": {
        "colab": {
          "base_uri": "https://localhost:8080/"
        },
        "id": "TLrtBO2SAIO9",
        "outputId": "36f54342-db5c-4a9c-900e-df2694981f07"
      },
      "outputs": [
        {
          "output_type": "stream",
          "name": "stdout",
          "text": [
            "上辺：10cm\n",
            "下辺：20cm\n",
            "高さ：5cm\n",
            "公式：台形の面積 =（上辺＋下辺）× 高さ ÷ 2\n",
            "75.0cm²\n"
          ]
        }
      ],
      "source": [
        "top_side=10\n",
        "bottom_side=20\n",
        "trapezoid_height=5\n",
        "\n",
        "print(f\"上辺：{top_side}cm\")\n",
        "print(f\"下辺：{bottom_side}cm\")\n",
        "print(f\"高さ：{trapezoid_height}cm\")\n",
        "\n",
        "print(\"公式：台形の面積 =（上辺＋下辺）× 高さ ÷ 2\")\n",
        "trapezoid_area=(top_side+bottom_side)*trapezoid_height/2\n",
        "\n",
        "print(f\"{trapezoid_area}cm²\")"
      ]
    }
  ]
}