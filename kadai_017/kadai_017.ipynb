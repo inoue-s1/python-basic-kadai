{
  "nbformat": 4,
  "nbformat_minor": 0,
  "metadata": {
    "colab": {
      "provenance": []
    },
    "kernelspec": {
      "name": "python3",
      "display_name": "Python 3"
    },
    "language_info": {
      "name": "python"
    }
  },
  "cells": [
    {
      "cell_type": "markdown",
      "source": [],
      "metadata": {
        "id": "mZcLu62YcJFD"
      }
    },
    {
      "cell_type": "code",
      "source": [
        "class Human:\n",
        "  def __init__(self, name, age):\n",
        "    self.name = name\n",
        "    self.age = age\n",
        "\n",
        "  def check_adult(self):\n",
        "    if(self.age >= 20):\n",
        "      print(f\"{self.name}は大人です\")\n",
        "    else:\n",
        "      print(f\"{self.name}は大人ではないです\")\n",
        "\n",
        "human_list=[\n",
        "    Human(\"太郎\",10),\n",
        "    Human(\"次郎\",20),\n",
        "    Human(\"三郎\",15)\n",
        "]\n",
        "\n",
        "for human in human_list:\n",
        "  human.check_adult()"
      ],
      "metadata": {
        "colab": {
          "base_uri": "https://localhost:8080/"
        },
        "id": "8qWhqqzy2Sq4",
        "outputId": "673481f6-6fe1-43ba-c22b-3abd9077837c"
      },
      "execution_count": 14,
      "outputs": [
        {
          "output_type": "stream",
          "name": "stdout",
          "text": [
            "太郎は大人ではないです\n",
            "次郎は大人です\n",
            "三郎は大人ではないです\n"
          ]
        }
      ]
    }
  ]
}