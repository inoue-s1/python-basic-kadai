{
  "nbformat": 4,
  "nbformat_minor": 0,
  "metadata": {
    "colab": {
      "provenance": []
    },
    "kernelspec": {
      "name": "python3",
      "display_name": "Python 3"
    },
    "language_info": {
      "name": "python"
    }
  },
  "cells": [
    {
      "cell_type": "code",
      "execution_count": 5,
      "metadata": {
        "colab": {
          "base_uri": "https://localhost:8080/"
        },
        "id": "xIf-blHACwBZ",
        "outputId": "59cd50d9-c9d0-44f4-9c2d-486b45cf4aaa"
      },
      "outputs": [
        {
          "output_type": "stream",
          "name": "stdout",
          "text": [
            "121.0\n"
          ]
        }
      ],
      "source": [
        "def add_tax (product_price, consumption_tax):\n",
        "  return product_price * (100+consumption_tax) /100\n",
        "\n",
        "print(add_tax(110,10))"
      ]
    }
  ]
}